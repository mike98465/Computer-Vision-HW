{
  "nbformat": 4,
  "nbformat_minor": 0,
  "metadata": {
    "colab": {
      "name": "pB.ipynb",
      "provenance": [],
      "collapsed_sections": [],
      "toc_visible": true
    },
    "kernelspec": {
      "name": "python3",
      "display_name": "Python 3"
    },
    "accelerator": "GPU"
  },
  "cells": [
    {
      "cell_type": "markdown",
      "metadata": {
        "id": "9OAkOhzr2ekC",
        "colab_type": "text"
      },
      "source": [
        "# Download data"
      ]
    },
    {
      "cell_type": "code",
      "metadata": {
        "id": "Zgh1Sj9GaDB5",
        "colab_type": "code",
        "outputId": "3773374a-5c07-4e47-a285-81bbaa682d91",
        "colab": {
          "base_uri": "https://localhost:8080/",
          "height": 306
        }
      },
      "source": [
        "!wget -nc 140.114.76.113:8000/ccpd6000.zip\n",
        "!unzip -nq ccpd6000.zip\n",
        "!ls -alh"
      ],
      "execution_count": 1,
      "outputs": [
        {
          "output_type": "stream",
          "text": [
            "--2019-12-06 13:33:31--  http://140.114.76.113:8000/ccpd6000.zip\n",
            "Connecting to 140.114.76.113:8000... connected.\n",
            "HTTP request sent, awaiting response... 200 OK\n",
            "Length: 332013713 (317M) [application/zip]\n",
            "Saving to: ‘ccpd6000.zip’\n",
            "\n",
            "ccpd6000.zip        100%[===================>] 316.63M  7.26MB/s    in 46s     \n",
            "\n",
            "2019-12-06 13:34:49 (6.81 MB/s) - ‘ccpd6000.zip’ saved [332013713/332013713]\n",
            "\n",
            "total 317M\n",
            "drwxr-xr-x 1 root root 4.0K Dec  6 13:34 .\n",
            "drwxr-xr-x 1 root root 4.0K Dec  6 13:30 ..\n",
            "drwxr-xr-x 4 root root 4.0K Nov 19 11:35 ccpd6000\n",
            "-rw-r--r-- 1 root root 317M Nov 19 11:44 ccpd6000.zip\n",
            "drwxr-xr-x 1 root root 4.0K Nov 27 22:38 .config\n",
            "drwxr-xr-x 1 root root 4.0K Nov 27 22:38 sample_data\n"
          ],
          "name": "stdout"
        }
      ]
    },
    {
      "cell_type": "code",
      "metadata": {
        "id": "94Q_JGcDKWaz",
        "colab_type": "code",
        "outputId": "4a803128-616f-4274-8586-870aa68e701c",
        "colab": {
          "base_uri": "https://localhost:8080/",
          "height": 34
        }
      },
      "source": [
        "!sha256sum ccpd6000.zip"
      ],
      "execution_count": 2,
      "outputs": [
        {
          "output_type": "stream",
          "text": [
            "977d7124a53e565c3f2b371a871ee04ebbe572f07deb0b38c5548ddaae0cb2c9  ccpd6000.zip\n"
          ],
          "name": "stdout"
        }
      ]
    },
    {
      "cell_type": "markdown",
      "metadata": {
        "id": "wWoZBNU0sx-v",
        "colab_type": "text"
      },
      "source": [
        "## Init and Utility"
      ]
    },
    {
      "cell_type": "code",
      "metadata": {
        "id": "lcDN5XqjbUCj",
        "colab_type": "code",
        "colab": {}
      },
      "source": [
        "import random\n",
        "import numpy as np\n",
        "import pandas as pd\n",
        "from pathlib import Path\n",
        "from datetime import datetime\n",
        "import matplotlib.pyplot as plt\n",
        "from PIL import Image, ImageDraw\n",
        "from IPython import display\n",
        "\n",
        "import torch\n",
        "from torch import nn\n",
        "from torch.nn import functional as F\n",
        "from torchvision.transforms import functional as tf\n",
        "from torch.utils.data import DataLoader, Dataset, Subset, ConcatDataset\n",
        "\n",
        "# Fix the seed for reproducibility\n",
        "seed = 999\n",
        "random.seed(seed)\n",
        "np.random.seed(seed)\n",
        "torch.manual_seed(seed)\n",
        "torch.backends.cudnn.deterministic = True\n",
        "\n",
        "# Some constants\n",
        "FIELDS = ['BR_x', 'BR_y', 'BL_x', 'BL_y', 'TL_x', 'TL_y', 'TR_x', 'TR_y'] # the fields in csv\n",
        "IMG_SIZE = (192, 320) # the input image size (width, height) of the model\n",
        "ROOT_DIR = Path('./ccpd6000/') # the root directory of the dataset"
      ],
      "execution_count": 0,
      "outputs": []
    },
    {
      "cell_type": "code",
      "metadata": {
        "id": "nfnBR8ucb3Vp",
        "colab_type": "code",
        "colab": {}
      },
      "source": [
        "def draw_kpts(img, kpts, c='red', r=2.0):\n",
        "    '''\n",
        "    Draw `kpts` on `img`. `img` is modified inplace.\n",
        "    Args:\n",
        "        img: (PIL.Image) the image to be drawn\n",
        "        kpts: (torch.tensor) the normalized positions (x, y) of keypoints, shaped [4, 2]\n",
        "        c: (str) color\n",
        "        r: (float) radius of the drawn circle\n",
        "    Return:\n",
        "        img: (PIL.Image) the result.\n",
        "    '''\n",
        "    draw = ImageDraw.Draw(img)\n",
        "    size = torch.tensor([img.size]).float()\n",
        "    kpts = kpts.view(4, 2) * size\n",
        "    kpts = kpts.numpy().tolist()\n",
        "    for x, y in kpts:\n",
        "        draw.ellipse([x - r, y - r, x + r, y + r], fill=c)\n",
        "    return img"
      ],
      "execution_count": 0,
      "outputs": []
    },
    {
      "cell_type": "markdown",
      "metadata": {
        "id": "HeaDTK_BuGdN",
        "colab_type": "text"
      },
      "source": [
        "## Training Data"
      ]
    },
    {
      "cell_type": "code",
      "metadata": {
        "id": "dJEFBMjEb6kp",
        "colab_type": "code",
        "outputId": "fdc558b0-9734-4614-a0b7-1f2914510956",
        "colab": {
          "base_uri": "https://localhost:8080/",
          "height": 337
        }
      },
      "source": [
        "class TrainData(Dataset):\n",
        "    def __init__(self, csv_path, img_dir):\n",
        "        super().__init__()\n",
        "        self.anns = pd.read_csv(csv_path).to_dict('records') # List of Dict\n",
        "        self.img_dir = Path(img_dir)\n",
        "        self.img_paths = self.img_dir.glob('*.jpg')\n",
        "        self.img_paths = sorted(list(self.img_paths))\n",
        "\n",
        "    def __len__(self):\n",
        "        '''Return the number of sample'''\n",
        "        return len(self.img_paths)\n",
        "        #raise NotImplementedError()\n",
        "\n",
        "    def __getitem__(self, idx):\n",
        "        '''Map index `idx` to a sample, i.e., an image and its keypoints\n",
        "\n",
        "        Args:\n",
        "            idx: (int) index\n",
        "        Return:\n",
        "            img: (torch.FloatTensor) values in 0 ~ 1 and shaped [3, H, W]\n",
        "            kpt: (torch.FloatTensor) normalized positions of \n",
        "                bottom-right, bottom-left, top-left, top-right corners. \n",
        "                For example, position (256, 256) of an (512, 512) image should be (0.5, 0.5)\n",
        "                `kpt` should have same order as `FIELDS` and is shaped [8].\n",
        "        '''\n",
        "\n",
        "        img_path = self.img_paths[idx]\n",
        "    \n",
        "        # load image\n",
        "        img = Image.open(img_path)\n",
        "        W, H = img.size\n",
        "        #print(W)\n",
        "        #print(H)\n",
        "        img = img.convert('RGB')\n",
        "        img = img.resize((192, 320))\n",
        "        img = tf.to_tensor(img)\n",
        "        \n",
        "        # parse annotation\n",
        "        #print(self.anns[idx])\n",
        "        annotations = self.anns[idx]\n",
        "        kpt = [float(annotations[field]) for field in FIELDS]\n",
        "        kpt = torch.tensor(kpt)\n",
        "        kpt = kpt.view(4, 2)\n",
        "        kpt = kpt / torch.FloatTensor([W, H])\n",
        "        kpt = kpt.view(-1)\n",
        "        \n",
        "        return img, kpt\n",
        "\n",
        "        #raise NotImplementedError()\n",
        "\n",
        "# Do some checking and visualization\n",
        "data = TrainData(ROOT_DIR / 'train.csv', ROOT_DIR / 'train_images')\n",
        "print(len(data))    # should be 3000\n",
        "\n",
        "img, kpt = data[-1] # get a sample\n",
        "print(img.size())   # should be [3, H, W]\n",
        "print(img.max())    # should be <= 1.0\n",
        "print(kpt.size())   # should be [8]\n",
        "\n",
        "img = tf.to_pil_image(img) # convert tensor of shape (3, H, W) to PIL.Image\n",
        "vis = draw_kpts(img, kpt, c='orange')\n",
        "plt.imshow(vis)\n",
        "plt.show()"
      ],
      "execution_count": 5,
      "outputs": [
        {
          "output_type": "stream",
          "text": [
            "3000\n",
            "torch.Size([3, 320, 192])\n",
            "tensor(1.)\n",
            "torch.Size([8])\n"
          ],
          "name": "stdout"
        },
        {
          "output_type": "display_data",
          "data": {
            "image/png": "[encoded data removed]",
            "text/plain": [
              "<Figure size 432x288 with 1 Axes>"
            ]
          },
          "metadata": {
            "tags": []
          }
        }
      ]
    },
    {
      "cell_type": "markdown",
      "metadata": {
        "id": "jXjRuBAmuNOC",
        "colab_type": "text"
      },
      "source": [
        "## Network"
      ]
    },
    {
      "cell_type": "code",
      "metadata": {
        "id": "u4OigzOEcFR6",
        "colab_type": "code",
        "outputId": "8c49162a-1229-466c-81ad-0f5680bbfeed",
        "colab": {
          "base_uri": "https://localhost:8080/",
          "height": 68
        }
      },
      "source": [
        "class ConvBlock(nn.Module):\n",
        "    def __init__(self, cin, cout):\n",
        "        super().__init__() # necessary\n",
        "        self.conv = nn.Conv2d(cin, cout, (3, 3), padding=1)\n",
        "        self.bn = nn.BatchNorm2d(cout)\n",
        "        self.relu = nn.ReLU()\n",
        "\n",
        "    def forward(self, x):\n",
        "        x = self.conv(x)\n",
        "        x = self.bn(x)\n",
        "        x = self.relu(x)\n",
        "        return x\n",
        "\n",
        "\n",
        "class Net(nn.Module):\n",
        "    def __init__(self):\n",
        "        '''Defines parameters (what layers you gonna use)\n",
        "        '''\n",
        "        super().__init__() # necessary\n",
        "        self.features = nn.Sequential(\n",
        "            ConvBlock(3, 32),\n",
        "            ConvBlock(32, 32),\n",
        "            nn.MaxPool2d((4, 4)),\n",
        "            ConvBlock(32, 32),\n",
        "            ConvBlock(32, 32),\n",
        "            nn.MaxPool2d((2, 2)),\n",
        "            ConvBlock(32, 32),\n",
        "            ConvBlock(32, 32),\n",
        "            nn.MaxPool2d((2, 2)),\n",
        "            ConvBlock(32, 32),\n",
        "            ConvBlock(32, 32),\n",
        "            nn.MaxPool2d((2, 2)),\n",
        "            ConvBlock(32, 32),\n",
        "            ConvBlock(32, 32),\n",
        "            nn.MaxPool2d((2, 2)),\n",
        "        )\n",
        "        self.regression = nn.Sequential(\n",
        "            nn.Flatten(), nn.Linear(480, 32), nn.ReLU(), nn.Linear(32, 8), nn.Sigmoid()\n",
        "        )\n",
        "\n",
        "    def forward(self, img_b):\n",
        "        '''Define how layers are interact, that is, the forward function.\n",
        "        In this network, img_b is passed to self.features and \n",
        "        the result is passed to self.regression.\n",
        "\n",
        "        Args:\n",
        "            img_b: (torch.FloatTensor) input images (mini-batch), shaped [N, 3, H, W]\n",
        "        Return:\n",
        "            kpt_b: (torch.FloatTensor) the predictions (mini-batch), shaped [N, 8]\n",
        "        '''\n",
        "\n",
        "        N = img_b.size(0)\n",
        "        kpt_b = self.features(img_b)\n",
        "        kpt_b = kpt_b.view(N, -1)\n",
        "        kpt_b = self.regression(kpt_b)\n",
        "        return kpt_b\n",
        "\n",
        "        #raise NotImplementedError()\n",
        "\n",
        "\n",
        "# Do some checking\n",
        "loader = DataLoader(data, batch_size=10) # dataloader constructs mini-batch from a dataset\n",
        "img_b, kpt_b = next(iter(loader)) # get an mini-batch\n",
        "print(img_b.size()) # expects [N, 3, H, W]\n",
        "print(kpt_b.size()) # expects [N, 8]\n",
        "\n",
        "# Do a forwarding\n",
        "device = 'cuda'     # the computing device, 'cuda' or 'cpu'\n",
        "model = Net().to(device) # instantiate network and move it to device\n",
        "criterion = nn.L1Loss()  # the criterion (loss function)\n",
        "\n",
        "img_b = img_b.to(device)\n",
        "kpt_b = kpt_b.to(device)\n",
        "pred_b = model(img_b)\n",
        "loss = criterion(pred_b, kpt_b)\n",
        "print(loss)"
      ],
      "execution_count": 6,
      "outputs": [
        {
          "output_type": "stream",
          "text": [
            "torch.Size([10, 3, 320, 192])\n",
            "torch.Size([10, 8])\n",
            "tensor(0.1244, device='cuda:0', grad_fn=<L1LossBackward>)\n"
          ],
          "name": "stdout"
        }
      ]
    },
    {
      "cell_type": "markdown",
      "metadata": {
        "id": "oK44dPOUwmYU",
        "colab_type": "text"
      },
      "source": [
        "## Training"
      ]
    },
    {
      "cell_type": "code",
      "metadata": {
        "id": "az63JEHfcWtJ",
        "colab_type": "code",
        "outputId": "39414aca-dbcb-46b5-b9e6-68dca831c21f",
        "colab": {
          "base_uri": "https://localhost:8080/",
          "height": 1000
        }
      },
      "source": [
        "class Trainer:\n",
        "    def __init__(self, log_dir):\n",
        "        '''Initialize the varibles for training\n",
        "        Args:\n",
        "            log_dir: (pathlib.Path) the direction used for logging\n",
        "        '''\n",
        "        self.log_dir = log_dir\n",
        "\n",
        "        # Datasets and dataloaders\n",
        "        # 1. Split the whole training data into train and valid (validation)\n",
        "        # 2. Construct visualization data (25 training samples, 25 validation samples)\n",
        "        # 3. Make the corresponding dataloaders\n",
        "        data = TrainData(ROOT_DIR / 'train.csv', ROOT_DIR / 'train_images')\n",
        "        pivot = len(data) * 4 // 5\n",
        "        self.train_set = Subset(data, range(0, pivot))\n",
        "        self.valid_set = Subset(data, range(pivot, len(data)))\n",
        "        self.visul_set = ConcatDataset(\n",
        "            [\n",
        "                Subset(self.train_set, random.sample(range(len(self.train_set)), k=25)),\n",
        "                Subset(self.valid_set, random.sample(range(len(self.valid_set)), k=25)),\n",
        "            ]\n",
        "        )\n",
        "        self.train_loader = DataLoader(self.train_set, 10, shuffle=True, num_workers=4)\n",
        "        self.valid_loader = DataLoader(self.valid_set, 10, shuffle=False, num_workers=4)\n",
        "        self.visul_loader = DataLoader(self.visul_set, 10, shuffle=False)\n",
        "\n",
        "        # model, loss function, optimizer\n",
        "        self.device = 'cuda'\n",
        "        self.model = Net().to(self.device)\n",
        "        self.criterion = nn.L1Loss()\n",
        "        self.optimizer = torch.optim.Adam(self.model.parameters(), lr=1e-3)\n",
        "        self.scheduler = torch.optim.lr_scheduler.StepLR(self.optimizer, step_size=10, gamma=0.1)\n",
        "        self.max_epoch = 20\n",
        "        self.history = {\n",
        "            'train_mae': [],\n",
        "            'train_mse': [],\n",
        "            'valid_mae': [],\n",
        "            'valid_mse': []\n",
        "        }\n",
        "\n",
        "    def run(self):\n",
        "        metrics = {'train_loss': [], 'valid_loss': []}\n",
        "        for self.epoch in range(self.max_epoch): # 5 epochs\n",
        "            train_loss = self.train() # train 1 epoch\n",
        "            self.scheduler.step()\n",
        "            valid_loss = self.valid() # valid 1 epoch\n",
        "            self.visul()              # visualization\n",
        "\n",
        "            print(f'Epoch {self.epoch:03d}:')\n",
        "            print('train loss:', train_loss)\n",
        "            print('valid loss:', valid_loss)\n",
        "            metrics['train_loss'].append(train_loss)\n",
        "            metrics['valid_loss'].append(valid_loss)\n",
        "\n",
        "            # Save the parameters(weights) of the model to disk\n",
        "            if torch.tensor(self.history['valid_mae']).argmin() == self.epoch:\n",
        "                torch.save(self.model.state_dict(), str(self.log_dir / 'model.pth'))\n",
        "            #raise NotImplementedError()\n",
        "\n",
        "        # Plot the loss curve against epoch\n",
        "        self.log(self.epoch)\n",
        "        #raise NotImplementedError()\n",
        "\n",
        "    def train(self):\n",
        "        '''Train one epoch\n",
        "        1. Switch model to training mode\n",
        "        2. Iterate mini-batches and do:\n",
        "            a. clear gradient\n",
        "            b. forward to get loss\n",
        "            c. loss backward\n",
        "            d. update parameters\n",
        "        3. Return the average loss in this epoch\n",
        "        '''\n",
        "\n",
        "        self.model.train()\n",
        "        mae_steps = []\n",
        "        #mse_steps = []\n",
        "\n",
        "        for img_b, kpt_b in iter(self.train_loader):\n",
        "            img_b = img_b.to(device)\n",
        "            kpt_b = kpt_b.to(device)\n",
        "\n",
        "            self.optimizer.zero_grad()\n",
        "            pred_b = self.model(img_b)\n",
        "            loss = self.criterion(pred_b, kpt_b)\n",
        "            loss.backward()\n",
        "            self.optimizer.step()\n",
        "            mae = loss.detach().item()\n",
        "            #mse = F.mse_loss(pred_b.detach(), kpt_b.detach()).item()\n",
        "            mae_steps.append(mae)\n",
        "            #mse_steps.append(mse)\n",
        "          \n",
        "        avg_mae = sum(mae_steps) / len(mae_steps)\n",
        "        #avg_mse = sum(mse_steps) / len(mse_steps)\n",
        "        self.history['train_mae'].append(avg_mae)\n",
        "        #self.history['train_mse'].append(avg_mse)\n",
        "\n",
        "        return avg_mae\n",
        "\n",
        "        #raise NotImplementedError()\n",
        "\n",
        "    @torch.no_grad()\n",
        "    def valid(self):\n",
        "        '''Validate one epoch\n",
        "        1. Switch model to evaluation mode and turn off gradient (by @torch.no_grad() or with torch.no_grad())\n",
        "        2. Iterate mini-batches and do forwarding to get loss\n",
        "        3. Return average loss in this epoch\n",
        "        '''\n",
        "\n",
        "        self.model.eval()\n",
        "        mae_steps = []\n",
        "        #mse_steps = []\n",
        "\n",
        "        for img_b, kpt_b in iter(self.valid_loader):\n",
        "            img_b = img_b.to(device)\n",
        "            kpt_b = kpt_b.to(device)\n",
        "            pred_b = self.model(img_b)\n",
        "            loss = self.criterion(pred_b, kpt_b)\n",
        "            mae = loss.detach().item()\n",
        "            #mse = F.mse_loss(pred_b.detach(), kpt_b.detach()).item()\n",
        "            mae_steps.append(mae)\n",
        "            #mse_steps.append(mse)\n",
        "\n",
        "        avg_mae = sum(mae_steps) / len(mae_steps)\n",
        "        #avg_mse = sum(mse_steps) / len(mse_steps)\n",
        "        self.history['valid_mae'].append(avg_mae)\n",
        "        #self.history['valid_mse'].append(avg_mse)\n",
        "\n",
        "        return avg_mae\n",
        "\n",
        "        #raise NotImplementedError()\n",
        "\n",
        "    @torch.no_grad()\n",
        "    def visul(self):\n",
        "        ''' Visualize some samples\n",
        "        1. Switch model to evaluation mode and turn off gradient (by @torch.no_grad() or with torch.no_grad())\n",
        "        2. Iterate mini-batches and do:\n",
        "            a. forward to get predictions\n",
        "            b. visualize and save visualization to log_dir / f'{epoch:03d}'\n",
        "        As a result, first 25 samples are from training data and last 25 samples are from validation.\n",
        "        '''\n",
        "        self.model.eval()\n",
        "        epoch_dir = self.log_dir / f'{self.epoch:03d}'\n",
        "        epoch_dir.mkdir(parents=True)\n",
        "        idx = 0\n",
        "        for img_b, kpt_b in iter(self.visul_loader):\n",
        "            pred_b = self.model(img_b.to(self.device)).to('cpu')\n",
        "            for img, kpt, pred in zip(img_b, kpt_b, pred_b):\n",
        "                img = tf.to_pil_image(img)\n",
        "                vis = draw_kpts(img, kpt, c='orange')\n",
        "                vis = draw_kpts(img, pred, c='red')\n",
        "                vis.save(epoch_dir / f'{idx:03d}.jpg')\n",
        "                idx += 1\n",
        "\n",
        "    def log(self,epoch):\n",
        "        fig, ax = plt.subplots(1, 1, figsize=(6, 6), dpi=100)\n",
        "        ax.set_title('MAE')\n",
        "        ax.plot(range(epoch + 1), self.history['train_mae'], label='Train')\n",
        "        ax.plot(range(epoch + 1), self.history['valid_mae'], label='Valid')\n",
        "        ax.legend()\n",
        "        fig.savefig(str(self.log_dir / 'metrics.png'))\n",
        "        plt.close()\n",
        "\n",
        "\n",
        "log_dir = Path('./runs/') / f'{datetime.now():%b.%d %H:%M:%S}'\n",
        "log_dir.mkdir(parents=True)\n",
        "Trainer(log_dir).run()"
      ],
      "execution_count": 7,
      "outputs": [
        {
          "output_type": "stream",
          "text": [
            "Epoch 000:\n",
            "train loss: 0.030282978624260673\n",
            "valid loss: 0.02172690033912659\n",
            "Epoch 001:\n",
            "train loss: 0.015947305504232644\n",
            "valid loss: 0.016742958904554447\n",
            "Epoch 002:\n",
            "train loss: 0.014051990199368447\n",
            "valid loss: 0.012217139530306061\n",
            "Epoch 003:\n",
            "train loss: 0.01198880616769505\n",
            "valid loss: 0.010140802742292484\n",
            "Epoch 004:\n",
            "train loss: 0.011589462967822328\n",
            "valid loss: 0.012531162410353621\n",
            "Epoch 005:\n",
            "train loss: 0.011332731920992956\n",
            "valid loss: 0.011053508411472042\n",
            "Epoch 006:\n",
            "train loss: 0.010415905194046596\n",
            "valid loss: 0.01231361685010294\n",
            "Epoch 007:\n",
            "train loss: 0.010106251895194873\n",
            "valid loss: 0.010681722196750343\n",
            "Epoch 008:\n",
            "train loss: 0.009766414530652886\n",
            "valid loss: 0.009367427323013544\n",
            "Epoch 009:\n",
            "train loss: 0.009516573782699803\n",
            "valid loss: 0.009861016785725952\n",
            "Epoch 010:\n",
            "train loss: 0.007263198886842777\n",
            "valid loss: 0.007749659079127014\n",
            "Epoch 011:\n",
            "train loss: 0.006931619846727699\n",
            "valid loss: 0.007736575634529193\n",
            "Epoch 012:\n",
            "train loss: 0.006777897399539749\n",
            "valid loss: 0.007607783299560348\n",
            "Epoch 013:\n",
            "train loss: 0.00667049265660656\n",
            "valid loss: 0.0077520389032239715\n",
            "Epoch 014:\n",
            "train loss: 0.006602564230949307\n",
            "valid loss: 0.007597245648503304\n",
            "Epoch 015:\n",
            "train loss: 0.006474236667660686\n",
            "valid loss: 0.007693591799276571\n",
            "Epoch 016:\n",
            "train loss: 0.006399801860485847\n",
            "valid loss: 0.007644679839722812\n",
            "Epoch 017:\n",
            "train loss: 0.0063256936429146055\n",
            "valid loss: 0.0077083875813211\n",
            "Epoch 018:\n",
            "train loss: 0.0062366647607026\n",
            "valid loss: 0.007608784393717845\n",
            "Epoch 019:\n",
            "train loss: 0.006215533408491561\n",
            "valid loss: 0.007547156497215231\n"
          ],
          "name": "stdout"
        }
      ]
    },
    {
      "cell_type": "markdown",
      "metadata": {
        "id": "mzDQiSOIz6Pf",
        "colab_type": "text"
      },
      "source": [
        "## Testing"
      ]
    },
    {
      "cell_type": "code",
      "metadata": {
        "id": "sA2yn9DJco6O",
        "colab_type": "code",
        "outputId": "44c6085e-5107-4b84-ad14-8e0782d988e7",
        "colab": {
          "base_uri": "https://localhost:8080/",
          "height": 105
        }
      },
      "source": [
        "# Do testing\n",
        "\n",
        "from pathlib import Path\n",
        "from datetime import datetime\n",
        "import pandas as pd\n",
        "from tqdm import tqdm\n",
        "from PIL import Image\n",
        "\n",
        "import torch\n",
        "from torch.utils.data import DataLoader\n",
        "from torchvision.transforms import functional as tf\n",
        "import os\n",
        "\n",
        "class CCPDTest:\n",
        "    def __init__(self, img_dir, img_size):\n",
        "        img_paths = Path(img_dir).glob('*.jpg')\n",
        "        self.img_paths = sorted(list(img_paths))\n",
        "        self.img_size = img_size\n",
        "\n",
        "    def __len__(self):\n",
        "        return len(self.img_paths)\n",
        "\n",
        "    def __getitem__(self, idx):\n",
        "        img_path = self.img_paths[idx]\n",
        "        img = Image.open(img_path)\n",
        "        img = img.convert('RGB')\n",
        "        img = img.resize(self.img_size)\n",
        "        img = tf.to_tensor(img)\n",
        "        return img\n",
        "\n",
        "\n",
        "test_set = CCPDTest('ccpd6000/test_images/', (192,320))\n",
        "print(len(test_set))\n",
        "test_loader = DataLoader(test_set, 32, shuffle=False, num_workers=2)\n",
        "\n",
        "#print(log_dir)\n",
        "\n",
        "device = 'cuda'\n",
        "model = Net().to(device)\n",
        "model.load_state_dict(torch.load(str(log_dir / 'model.pth')))\n",
        "model.eval()\n",
        "\n",
        "test_log_dir = Path('./test/')\n",
        "if not os.path.exists(test_log_dir):\n",
        "  test_log_dir.mkdir(parents=True)\n",
        "print(test_log_dir)\n",
        "\n",
        "def test(pbar):\n",
        "    anns = []\n",
        "    for img_b in iter(test_loader):\n",
        "        kpt_b = model(img_b.to(device)).cpu()\n",
        "\n",
        "        for img, kpt in zip(img_b, kpt_b):\n",
        "            img = tf.to_pil_image(img)\n",
        "            #vis = draw_kpts(img, kpt, c='red')\n",
        "            #vis.save(test_log_dir / f'{pbar.n:04d}_vis.jpg')\n",
        "            kpt = torch.tensor(kpt)\n",
        "            kpt = kpt.view(4, 2)\n",
        "            kpt = kpt * torch.FloatTensor([720, 1160])\n",
        "            kpt = kpt.view(-1)\n",
        "            '''\n",
        "            kpt = torch.tensor(kpt)\n",
        "            kpt = kpt.view(4, 2) \n",
        "            kpt = kpt / torch.FloatTensor([W, H])\n",
        "            kpt = kpt.view(-1) \n",
        "            '''\n",
        "\n",
        "            anns.append([f'{pbar.n:04d}.jpg', *kpt.numpy().tolist()])\n",
        "            pbar.update()\n",
        "    #print(anns)        \n",
        "    return pd.DataFrame(anns)\n",
        "\n",
        "\n",
        "with torch.no_grad():\n",
        "    with tqdm(total=len(test_set)) as pbar:\n",
        "        df_pred = test(pbar)\n",
        "    df_pred.columns = ['name', 'BR_x', 'BR_y', 'BL_x', 'BL_y', 'TL_x', 'TL_y', 'TR_x', 'TR_y']\n",
        "    df_pred.to_csv(test_log_dir / 'test_pred.csv', float_format='%.5f', index=False)\n",
        "\n",
        "#raise NotImplementedError()"
      ],
      "execution_count": 8,
      "outputs": [
        {
          "output_type": "stream",
          "text": [
            "\r  0%|          | 0/3000 [00:00<?, ?it/s]"
          ],
          "name": "stderr"
        },
        {
          "output_type": "stream",
          "text": [
            "3000\n",
            "test\n"
          ],
          "name": "stdout"
        },
        {
          "output_type": "stream",
          "text": [
            "/usr/local/lib/python3.6/dist-packages/ipykernel_launcher.py:56: UserWarning: To copy construct from a tensor, it is recommended to use sourceTensor.clone().detach() or sourceTensor.clone().detach().requires_grad_(True), rather than torch.tensor(sourceTensor).\n",
            "100%|██████████| 3000/3000 [00:41<00:00, 72.47it/s]\n"
          ],
          "name": "stderr"
        }
      ]
    },
    {
      "cell_type": "code",
      "metadata": {
        "id": "oJaYpKDqjiLh",
        "colab_type": "code",
        "outputId": "d2c22d29-c898-41c0-d2d2-f6eedad46aa7",
        "colab": {
          "base_uri": "https://localhost:8080/",
          "height": 337
        }
      },
      "source": [
        "display.Image(str(log_dir / '004' / '001.jpg')) # A visualization of training data in epoch 4"
      ],
      "execution_count": 9,
      "outputs": [
        {
          "output_type": "execute_result",
          "data": {
            "image/jpeg": "[encoded data removed]",
            "text/plain": [
              "<IPython.core.display.Image object>"
            ]
          },
          "metadata": {
            "tags": []
          },
          "execution_count": 9
        }
      ]
    },
    {
      "cell_type": "code",
      "metadata": {
        "id": "X6umOrDCkXXn",
        "colab_type": "code",
        "outputId": "8acc28c5-55d3-4eba-faf5-7ea023e1499c",
        "colab": {
          "base_uri": "https://localhost:8080/",
          "height": 337
        }
      },
      "source": [
        "display.Image(str(log_dir / '004' / '025.jpg')) # A visualization of validation data in epoch 4"
      ],
      "execution_count": 10,
      "outputs": [
        {
          "output_type": "execute_result",
          "data": {
            "image/jpeg": "[encoded data removed]",
            "text/plain": [
              "<IPython.core.display.Image object>"
            ]
          },
          "metadata": {
            "tags": []
          },
          "execution_count": 10
        }
      ]
    },
    {
      "cell_type": "code",
      "metadata": {
        "id": "CJ02RuAE7SXD",
        "colab_type": "code",
        "outputId": "faf6cc03-3bf8-4c85-cf06-b2dfe6299083",
        "colab": {
          "base_uri": "https://localhost:8080/",
          "height": 617
        }
      },
      "source": [
        "display.Image(str(log_dir / 'metrics.png')) # Loss"
      ],
      "execution_count": 11,
      "outputs": [
        {
          "output_type": "execute_result",
          "data": {
            "image/png": "[encoded data removed]",
            "text/plain": [
              "<IPython.core.display.Image object>"
            ]
          },
          "metadata": {
            "tags": []
          },
          "execution_count": 11
        }
      ]
    },
    {
      "cell_type": "code",
      "metadata": {
        "id": "hE7xqUzkgmOl",
        "colab_type": "code",
        "outputId": "9a4cf014-d37d-4907-c38c-271cdee86da4",
        "colab": {
          "base_uri": "https://localhost:8080/",
          "height": 170
        }
      },
      "source": [
        "!curl -F \"file=@./test/test_pred.csv\" -X POST 140.114.76.113:5000/cs6550 -i"
      ],
      "execution_count": 12,
      "outputs": [
        {
          "output_type": "stream",
          "text": [
            "HTTP/1.1 100 Continue\r\n",
            "\n",
            "HTTP/1.0 200 OK\n",
            "Content-Type: application/json\n",
            "Content-Length: 16\n",
            "Server: Werkzeug/0.16.0 Python/3.7.5\n",
            "Date: Fri, 06 Dec 2019 13:49:17 GMT\n",
            "\n",
            "{\"rmse\":13.225}\n"
          ],
          "name": "stdout"
        }
      ]
    }
  ]
}